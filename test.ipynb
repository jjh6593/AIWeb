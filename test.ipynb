{
 "cells": [
  {
   "cell_type": "code",
   "execution_count": 2,
   "id": "3bfdb6b5-c09a-4a0e-9634-161f78d71962",
   "metadata": {},
   "outputs": [],
   "source": [
    "import os\n",
    "import pandas as pd\n",
    "import numpy as np\n",
    "import joblib\n",
    "from sklearn.model_selection import train_test_split\n",
    "from sklearn.preprocessing import MinMaxScaler\n",
    "from sklearn.metrics import mean_squared_error, r2_score\n",
    "from sklearn.ensemble import RandomForestRegressor, GradientBoostingRegressor\n",
    "\n",
    "# 디렉토리 생성 함수\n",
    "def ensure_dir(directory):\n",
    "    if not os.path.exists(directory):\n",
    "        os.makedirs(directory)\n"
   ]
  },
  {
   "cell_type": "code",
   "execution_count": 4,
   "id": "838e3f94-b5de-4423-818b-7fa2317ff10d",
   "metadata": {},
   "outputs": [
    {
     "name": "stdout",
     "output_type": "stream",
     "text": [
      "CSV 데이터 미리보기:\n",
      "   Target  att1  att2  att3  att4  att5  att6  att7  att8  att9  att10  att11  \\\n",
      "0     335   300    20    40   0.1   100     1    10  27.2  38.0   1800    0.5   \n",
      "1     413   200    20    40   0.1   130     1    10  26.6  44.0   1740    0.5   \n",
      "2     424   200    20    40   0.1   130     1    10  26.6  44.0   1800    0.5   \n",
      "3     516   250    20    45   0.1   110     1    10  24.4  35.0   1800    0.5   \n",
      "4     536   250    20    30   0.1   110     1    10  24.4  35.0   1800    0.5   \n",
      "\n",
      "   att12  att13  att14  att15  \n",
      "0  9.286    100   2700   7200  \n",
      "1  9.286    100   2700   7200  \n",
      "2  9.286    100   2700   7200  \n",
      "3  9.286    100   2700   7200  \n",
      "4  9.286    100   2700   7200  \n",
      "학습 데이터 크기: (99, 15), 검증 데이터 크기: (25, 15)\n"
     ]
    }
   ],
   "source": [
    "# CSV 파일 경로 설정\n",
    "UPLOAD_FOLDER = './uploads'\n",
    "# CSV 파일 경로 설정\n",
    "csv_filename = './uploads/24-learning.csv'\n",
    "target_column = \"Target\"  # 타겟 컬럼 이름\n",
    "\n",
    "try:\n",
    "    df = pd.read_csv(csv_filename)\n",
    "    print(\"CSV 데이터 미리보기:\")\n",
    "    print(df.head())\n",
    "except Exception as e:\n",
    "    print(f\"CSV 파일 읽기 오류: {str(e)}\")\n",
    "    raise\n",
    "\n",
    "# 타겟 컬럼 확인\n",
    "if target_column not in df.columns:\n",
    "    raise ValueError(f\"Target 컬럼 '{target_column}'이 존재하지 않습니다.\")\n",
    "\n",
    "# 결측값 처리\n",
    "df = df.fillna(0)\n",
    "\n",
    "# 입력과 타겟 데이터 분리\n",
    "X = df.drop(columns=[target_column])\n",
    "y = df[target_column]\n",
    "\n",
    "# 스케일러 생성\n",
    "scaler_X = MinMaxScaler()\n",
    "scaler_y = MinMaxScaler()\n",
    "\n",
    "# 스케일링 적용\n",
    "X_scaled = scaler_X.fit_transform(X.to_numpy())\n",
    "y_scaled = scaler_y.fit_transform(y.to_numpy().reshape(-1, 1)).flatten()\n",
    "\n",
    "# 데이터 분할\n",
    "val_ratio = 0.2\n",
    "X_train, X_val, y_train, y_val = train_test_split(X_scaled, y_scaled, test_size=val_ratio, random_state=42)\n",
    "\n",
    "print(f\"학습 데이터 크기: {X_train.shape}, 검증 데이터 크기: {X_val.shape}\")\n",
    "\n"
   ]
  },
  {
   "cell_type": "code",
   "execution_count": 5,
   "id": "5753162d-dbf5-493a-8d62-9947cff055a0",
   "metadata": {},
   "outputs": [],
   "source": [
    "# 모델 학습 및 저장 함수\n",
    "def train_and_save_model(model, model_name, X_train, y_train, X_val, y_val):\n",
    "    # 모델 학습\n",
    "    print(f\"모델 학습 시작: {model_name}\")\n",
    "    model.fit(X_train, y_train)\n",
    "\n",
    "    # 예측\n",
    "    train_predictions = model.predict(X_train)\n",
    "    val_predictions = model.predict(X_val)\n",
    "\n",
    "    # 평가\n",
    "    train_mse = mean_squared_error(y_train, train_predictions)\n",
    "    train_r2 = r2_score(y_train, train_predictions)\n",
    "    val_mse = mean_squared_error(y_val, val_predictions)\n",
    "    val_r2 = r2_score(y_val, val_predictions)\n",
    "\n",
    "    print(f\"[{model_name}] 학습 완료\")\n",
    "    print(f\"훈련 MSE: {train_mse:.4f}, R2: {train_r2:.4f}\")\n",
    "    print(f\"검증 MSE: {val_mse:.4f}, R2: {val_r2:.4f}\")\n",
    "\n",
    "    # 모델 저장 경로\n",
    "    save_dir = './saved_models'\n",
    "    ensure_dir(save_dir)\n",
    "    model_path = os.path.join(save_dir, f\"{model_name}.pkl\")\n",
    "\n",
    "    # 모델 저장\n",
    "    try:\n",
    "        joblib.dump(model, model_path)\n",
    "        print(f\"모델 저장 완료: {model_path}\")\n",
    "    except Exception as e:\n",
    "        print(f\"모델 저장 실패: {str(e)}\")\n",
    "\n",
    "    return {\n",
    "        'model_name': model_name,\n",
    "        'train_mse': train_mse,\n",
    "        'train_r2': train_r2,\n",
    "        'val_mse': val_mse,\n",
    "        'val_r2': val_r2,\n",
    "        'model_path': model_path\n",
    "    }\n"
   ]
  },
  {
   "cell_type": "code",
   "execution_count": 6,
   "id": "69e8a3af-15b1-4867-8a72-85588a32d21f",
   "metadata": {},
   "outputs": [
    {
     "name": "stdout",
     "output_type": "stream",
     "text": [
      "모델 학습 시작: RandomForestRegressor\n",
      "[RandomForestRegressor] 학습 완료\n",
      "훈련 MSE: 0.0010, R2: 0.9885\n",
      "검증 MSE: 0.0062, R2: 0.9363\n",
      "모델 저장 완료: ./saved_models/RandomForestRegressor.pkl\n",
      "모델 학습 시작: GradientBoostingRegressor\n",
      "[GradientBoostingRegressor] 학습 완료\n",
      "훈련 MSE: 0.0006, R2: 0.9937\n",
      "검증 MSE: 0.0064, R2: 0.9348\n",
      "모델 저장 완료: ./saved_models/GradientBoostingRegressor.pkl\n"
     ]
    }
   ],
   "source": [
    "# 모델 정의\n",
    "random_forest = RandomForestRegressor(n_estimators=100, random_state=42)\n",
    "gradient_boosting = GradientBoostingRegressor(n_estimators=100, random_state=42)\n",
    "\n",
    "# 랜덤포레스트 학습 및 저장\n",
    "rf_results = train_and_save_model(random_forest, \"RandomForestRegressor\", X_train, y_train, X_val, y_val)\n",
    "\n",
    "# Gradient Boosting Regressor 학습 및 저장\n",
    "gb_results = train_and_save_model(gradient_boosting, \"GradientBoostingRegressor\", X_train, y_train, X_val, y_val)\n"
   ]
  },
  {
   "cell_type": "code",
   "execution_count": null,
   "id": "87221903-207f-45b6-8d3b-c3a8e0940da3",
   "metadata": {},
   "outputs": [],
   "source": [
    "from sklearn.ensemble import GradientBoostingRegressor\n",
    "from sklearn.datasets import make_regression\n",
    "from sklearn.model_selection import train_test_split\n",
    "from sklearn.metrics import mean_squared_error\n",
    "\n",
    "# 데이터 생성\n",
    "X, y = make_regression(n_samples=1000, n_features=10, noise=0.1, random_state=42)\n",
    "X_train, X_test, y_train, y_test = train_test_split(X, y, test_size=0.2, random_state=42)\n",
    "\n",
    "# 모델 설정\n",
    "model = GradientBoostingRegressor(\n",
    "    loss=\"squared_error\",\n",
    "    learning_rate=0.1,\n",
    "    n_estimators=100,\n",
    "    subsample=1,\n",
    "    criterion=\"friedman_mse\",\n",
    "    min_samples_split=2,\n",
    "    min_samples_leaf=1\n",
    ")\n",
    "\n",
    "# 모델 학습\n",
    "model.fit(X_train, y_train)\n",
    "\n",
    "# 평가\n",
    "y_pred = model.predict(X_test)\n",
    "mse = mean_squared_error(y_test, y_pred)\n",
    "print(f\"테스트 MSE: {mse:.4f}\")\n"
   ]
  },
  {
   "cell_type": "code",
   "execution_count": null,
   "id": "afe17265-a591-4250-bd82-6ee744866fc6",
   "metadata": {},
   "outputs": [],
   "source": [
    "X.shape"
   ]
  },
  {
   "cell_type": "code",
   "execution_count": null,
   "id": "bc620915-7db2-41e7-a392-29d2fc2d1911",
   "metadata": {},
   "outputs": [],
   "source": [
    "y.shape"
   ]
  },
  {
   "cell_type": "code",
   "execution_count": null,
   "id": "abce140c-645b-4440-b383-52569e9e4675",
   "metadata": {},
   "outputs": [],
   "source": []
  }
 ],
 "metadata": {
  "kernelspec": {
   "display_name": "Python 3 (ipykernel)",
   "language": "python",
   "name": "python3"
  },
  "language_info": {
   "codemirror_mode": {
    "name": "ipython",
    "version": 3
   },
   "file_extension": ".py",
   "mimetype": "text/x-python",
   "name": "python",
   "nbconvert_exporter": "python",
   "pygments_lexer": "ipython3",
   "version": "3.10.13"
  },
  "widgets": {
   "application/vnd.jupyter.widget-state+json": {
    "state": {},
    "version_major": 2,
    "version_minor": 0
   }
  }
 },
 "nbformat": 4,
 "nbformat_minor": 5
}
